{
 "metadata": {
  "language_info": {
   "codemirror_mode": {
    "name": "ipython",
    "version": 3
   },
   "file_extension": ".py",
   "mimetype": "text/x-python",
   "name": "python",
   "nbconvert_exporter": "python",
   "pygments_lexer": "ipython3",
   "version": "3.9.1-final"
  },
  "orig_nbformat": 2,
  "kernelspec": {
   "name": "python3",
   "display_name": "Python 3.9.1 64-bit",
   "metadata": {
    "interpreter": {
     "hash": "4bfc45bf3cc2e33ef2efefa149414eecf6c5c122287f8db60a15d84c9262645f"
    }
   }
  }
 },
 "nbformat": 4,
 "nbformat_minor": 2,
 "cells": [
  {
   "source": [
    "# EBFA Division League: Two teams results comparisons\n",
    "The Notebook downloads fixtures of the selected EBFA division.\n",
    "It compares how two teams played agains the same oppositions.\n",
    "\n",
    "It is dependent on `ebfa_fixtures_change_detect` folder containing `getGroupFixtures` function that does the actual web scrape of fixtures from the EBFA website.\n",
    "\n",
    "To change division, change `sEventId` and `sGroupId`.\n",
    "\n",
    "To change teams to compare, change `sCafcTeam` and `sOppTeam`."
   ],
   "cell_type": "markdown",
   "metadata": {}
  },
  {
   "cell_type": "code",
   "execution_count": 145,
   "metadata": {},
   "outputs": [],
   "source": [
    "# Get all matches in the Division\n",
    "import os\n",
    "import sys\n",
    "sys.path.insert(0, os.path.abspath(os.path.join(os.path.dirname(''), \n",
    "                                                'ebfa_fixtures_change_detect')))\n",
    "import main as ebfa_fixtures_change_detect_func\n",
    "import pandas as pd\n",
    "\n",
    "sEventId = '4389'\n",
    "sGroupId = '7590'\n",
    "\n",
    "sCafcTeam = 'CAVERSHAM AFC JAGUARS'\n",
    "sOppTeam = 'ROTHERFIELD UNITED WASPS'\n",
    "\n",
    "dfAll = ebfa_fixtures_change_detect_func.getGroupFixtures(sEventId, sGroupId)\n",
    "# dfAll.head()"
   ]
  },
  {
   "cell_type": "code",
   "execution_count": 146,
   "metadata": {},
   "outputs": [
    {
     "output_type": "execute_result",
     "data": {
      "text/plain": [
       "               Date                   Home HG AG                   Away  \\\n",
       "MatchId                                                                   \n",
       "4781     2020-09-12        ARBORFIELD ACES  2  2  CAVERSHAM AFC JAGUARS   \n",
       "4788     2020-09-19  CAVERSHAM AFC JAGUARS  2  3            AFC CHARVIL   \n",
       "4794     2020-09-26  CAVERSHAM AFC JAGUARS  1  3           WHITEKNIGHTS   \n",
       "4805     2020-10-17  CAVERSHAM AFC JAGUARS  4  5  BARTON ROVERS RAIDERS   \n",
       "4811     2020-10-31   HAWLEY YOUTH RAIDERS  8  1  CAVERSHAM AFC JAGUARS   \n",
       "\n",
       "               Notes                OppTeam  \n",
       "MatchId                                      \n",
       "4781     Match# 4781        ARBORFIELD ACES  \n",
       "4788     Match# 4788            AFC CHARVIL  \n",
       "4794     Match# 4794           WHITEKNIGHTS  \n",
       "4805     Match# 4805  BARTON ROVERS RAIDERS  \n",
       "4811     Match# 4811   HAWLEY YOUTH RAIDERS  "
      ],
      "text/html": "<div>\n<style scoped>\n    .dataframe tbody tr th:only-of-type {\n        vertical-align: middle;\n    }\n\n    .dataframe tbody tr th {\n        vertical-align: top;\n    }\n\n    .dataframe thead th {\n        text-align: right;\n    }\n</style>\n<table border=\"1\" class=\"dataframe\">\n  <thead>\n    <tr style=\"text-align: right;\">\n      <th></th>\n      <th>Date</th>\n      <th>Home</th>\n      <th>HG</th>\n      <th>AG</th>\n      <th>Away</th>\n      <th>Notes</th>\n      <th>OppTeam</th>\n    </tr>\n    <tr>\n      <th>MatchId</th>\n      <th></th>\n      <th></th>\n      <th></th>\n      <th></th>\n      <th></th>\n      <th></th>\n      <th></th>\n    </tr>\n  </thead>\n  <tbody>\n    <tr>\n      <th>4781</th>\n      <td>2020-09-12</td>\n      <td>ARBORFIELD ACES</td>\n      <td>2</td>\n      <td>2</td>\n      <td>CAVERSHAM AFC JAGUARS</td>\n      <td>Match# 4781</td>\n      <td>ARBORFIELD ACES</td>\n    </tr>\n    <tr>\n      <th>4788</th>\n      <td>2020-09-19</td>\n      <td>CAVERSHAM AFC JAGUARS</td>\n      <td>2</td>\n      <td>3</td>\n      <td>AFC CHARVIL</td>\n      <td>Match# 4788</td>\n      <td>AFC CHARVIL</td>\n    </tr>\n    <tr>\n      <th>4794</th>\n      <td>2020-09-26</td>\n      <td>CAVERSHAM AFC JAGUARS</td>\n      <td>1</td>\n      <td>3</td>\n      <td>WHITEKNIGHTS</td>\n      <td>Match# 4794</td>\n      <td>WHITEKNIGHTS</td>\n    </tr>\n    <tr>\n      <th>4805</th>\n      <td>2020-10-17</td>\n      <td>CAVERSHAM AFC JAGUARS</td>\n      <td>4</td>\n      <td>5</td>\n      <td>BARTON ROVERS RAIDERS</td>\n      <td>Match# 4805</td>\n      <td>BARTON ROVERS RAIDERS</td>\n    </tr>\n    <tr>\n      <th>4811</th>\n      <td>2020-10-31</td>\n      <td>HAWLEY YOUTH RAIDERS</td>\n      <td>8</td>\n      <td>1</td>\n      <td>CAVERSHAM AFC JAGUARS</td>\n      <td>Match# 4811</td>\n      <td>HAWLEY YOUTH RAIDERS</td>\n    </tr>\n  </tbody>\n</table>\n</div>"
     },
     "metadata": {},
     "execution_count": 146
    }
   ],
   "source": [
    "# Extract CAFC team's matches played\n",
    "dfCafc = dfAll[((dfAll.Home==sCafcTeam) | (dfAll.Away==sCafcTeam)) & dfAll.HG.notnull()]\n",
    "dfCafc['OppTeam'] = dfCafc['Home'].str.replace(sCafcTeam, '')+dfCafc['Away'].str.replace(sCafcTeam, '')\n",
    "dfCafc.head()"
   ]
  },
  {
   "source": [
    "# Extract the Opposition team's matches played\n",
    "dfOppTeam = dfAll[((dfAll.Home==sOppTeam) | (dfAll.Away==sOppTeam)) & (dfAll.HG.notnull())]\n",
    "dfOppTeam['OppTeam'] = dfOppTeam['Home'].str.replace(sOppTeam, '')+dfOppTeam['Away'].str.replace(sOppTeam,'')\n",
    "dfOppTeam.head()"
   ],
   "cell_type": "code",
   "metadata": {},
   "execution_count": 147,
   "outputs": [
    {
     "output_type": "execute_result",
     "data": {
      "text/plain": [
       "               Date                            Home HG AG  \\\n",
       "MatchId                                                     \n",
       "4778     2020-09-12        ROTHERFIELD UNITED WASPS  1  6   \n",
       "4797     2020-10-10                    WHITEKNIGHTS  4  3   \n",
       "4803     2020-10-17  HEARTS OF TEDDLOTHIAN CHEETAHS  2  8   \n",
       "4790     2020-10-24        ROTHERFIELD UNITED WASPS  7  1   \n",
       "4809     2020-10-31        ROTHERFIELD UNITED WASPS  7  2   \n",
       "\n",
       "                                Away  \\\n",
       "MatchId                                \n",
       "4778            HAWLEY YOUTH RAIDERS   \n",
       "4797        ROTHERFIELD UNITED WASPS   \n",
       "4803        ROTHERFIELD UNITED WASPS   \n",
       "4790     WINDSOR YOUTH EAGLES TIGERS   \n",
       "4809           FC WOODLEY ZEBRAS RED   \n",
       "\n",
       "                                                     Notes  \\\n",
       "MatchId                                                      \n",
       "4778                                Match# 4778 | 09:30:00   \n",
       "4797                                           Match# 4797   \n",
       "4803                                           Match# 4803   \n",
       "4790     Match# 4790 | Match rescheduled as Rotherfield...   \n",
       "4809                                Match# 4809 | 11:15:00   \n",
       "\n",
       "                                OppTeam  \n",
       "MatchId                                  \n",
       "4778               HAWLEY YOUTH RAIDERS  \n",
       "4797                       WHITEKNIGHTS  \n",
       "4803     HEARTS OF TEDDLOTHIAN CHEETAHS  \n",
       "4790        WINDSOR YOUTH EAGLES TIGERS  \n",
       "4809              FC WOODLEY ZEBRAS RED  "
      ],
      "text/html": "<div>\n<style scoped>\n    .dataframe tbody tr th:only-of-type {\n        vertical-align: middle;\n    }\n\n    .dataframe tbody tr th {\n        vertical-align: top;\n    }\n\n    .dataframe thead th {\n        text-align: right;\n    }\n</style>\n<table border=\"1\" class=\"dataframe\">\n  <thead>\n    <tr style=\"text-align: right;\">\n      <th></th>\n      <th>Date</th>\n      <th>Home</th>\n      <th>HG</th>\n      <th>AG</th>\n      <th>Away</th>\n      <th>Notes</th>\n      <th>OppTeam</th>\n    </tr>\n    <tr>\n      <th>MatchId</th>\n      <th></th>\n      <th></th>\n      <th></th>\n      <th></th>\n      <th></th>\n      <th></th>\n      <th></th>\n    </tr>\n  </thead>\n  <tbody>\n    <tr>\n      <th>4778</th>\n      <td>2020-09-12</td>\n      <td>ROTHERFIELD UNITED WASPS</td>\n      <td>1</td>\n      <td>6</td>\n      <td>HAWLEY YOUTH RAIDERS</td>\n      <td>Match# 4778 | 09:30:00</td>\n      <td>HAWLEY YOUTH RAIDERS</td>\n    </tr>\n    <tr>\n      <th>4797</th>\n      <td>2020-10-10</td>\n      <td>WHITEKNIGHTS</td>\n      <td>4</td>\n      <td>3</td>\n      <td>ROTHERFIELD UNITED WASPS</td>\n      <td>Match# 4797</td>\n      <td>WHITEKNIGHTS</td>\n    </tr>\n    <tr>\n      <th>4803</th>\n      <td>2020-10-17</td>\n      <td>HEARTS OF TEDDLOTHIAN CHEETAHS</td>\n      <td>2</td>\n      <td>8</td>\n      <td>ROTHERFIELD UNITED WASPS</td>\n      <td>Match# 4803</td>\n      <td>HEARTS OF TEDDLOTHIAN CHEETAHS</td>\n    </tr>\n    <tr>\n      <th>4790</th>\n      <td>2020-10-24</td>\n      <td>ROTHERFIELD UNITED WASPS</td>\n      <td>7</td>\n      <td>1</td>\n      <td>WINDSOR YOUTH EAGLES TIGERS</td>\n      <td>Match# 4790 | Match rescheduled as Rotherfield...</td>\n      <td>WINDSOR YOUTH EAGLES TIGERS</td>\n    </tr>\n    <tr>\n      <th>4809</th>\n      <td>2020-10-31</td>\n      <td>ROTHERFIELD UNITED WASPS</td>\n      <td>7</td>\n      <td>2</td>\n      <td>FC WOODLEY ZEBRAS RED</td>\n      <td>Match# 4809 | 11:15:00</td>\n      <td>FC WOODLEY ZEBRAS RED</td>\n    </tr>\n  </tbody>\n</table>\n</div>"
     },
     "metadata": {},
     "execution_count": 147
    }
   ]
  },
  {
   "cell_type": "code",
   "execution_count": 148,
   "metadata": {},
   "outputs": [
    {
     "output_type": "execute_result",
     "data": {
      "text/plain": [
       "         Date                         Home HG AG                   Away  \\\n",
       "0  2020-09-12              ARBORFIELD ACES  2  2  CAVERSHAM AFC JAGUARS   \n",
       "1  2020-09-19        CAVERSHAM AFC JAGUARS  2  3            AFC CHARVIL   \n",
       "2  2020-09-26        CAVERSHAM AFC JAGUARS  1  3           WHITEKNIGHTS   \n",
       "3  2020-10-31         HAWLEY YOUTH RAIDERS  8  1  CAVERSHAM AFC JAGUARS   \n",
       "4  2020-12-12  WINDSOR YOUTH EAGLES TIGERS  2  2  CAVERSHAM AFC JAGUARS   \n",
       "\n",
       "   Date_other                Home_other HG_other AG_other  \\\n",
       "0  2020-12-05           ARBORFIELD ACES        3        9   \n",
       "1  2020-12-12  ROTHERFIELD UNITED WASPS        3        2   \n",
       "2  2020-10-10              WHITEKNIGHTS        4        3   \n",
       "3  2020-09-12  ROTHERFIELD UNITED WASPS        1        6   \n",
       "4  2020-10-24  ROTHERFIELD UNITED WASPS        7        1   \n",
       "\n",
       "                    Away_other  \n",
       "0     ROTHERFIELD UNITED WASPS  \n",
       "1                  AFC CHARVIL  \n",
       "2     ROTHERFIELD UNITED WASPS  \n",
       "3         HAWLEY YOUTH RAIDERS  \n",
       "4  WINDSOR YOUTH EAGLES TIGERS  "
      ],
      "text/html": "<div>\n<style scoped>\n    .dataframe tbody tr th:only-of-type {\n        vertical-align: middle;\n    }\n\n    .dataframe tbody tr th {\n        vertical-align: top;\n    }\n\n    .dataframe thead th {\n        text-align: right;\n    }\n</style>\n<table border=\"1\" class=\"dataframe\">\n  <thead>\n    <tr style=\"text-align: right;\">\n      <th></th>\n      <th>Date</th>\n      <th>Home</th>\n      <th>HG</th>\n      <th>AG</th>\n      <th>Away</th>\n      <th>Date_other</th>\n      <th>Home_other</th>\n      <th>HG_other</th>\n      <th>AG_other</th>\n      <th>Away_other</th>\n    </tr>\n  </thead>\n  <tbody>\n    <tr>\n      <th>0</th>\n      <td>2020-09-12</td>\n      <td>ARBORFIELD ACES</td>\n      <td>2</td>\n      <td>2</td>\n      <td>CAVERSHAM AFC JAGUARS</td>\n      <td>2020-12-05</td>\n      <td>ARBORFIELD ACES</td>\n      <td>3</td>\n      <td>9</td>\n      <td>ROTHERFIELD UNITED WASPS</td>\n    </tr>\n    <tr>\n      <th>1</th>\n      <td>2020-09-19</td>\n      <td>CAVERSHAM AFC JAGUARS</td>\n      <td>2</td>\n      <td>3</td>\n      <td>AFC CHARVIL</td>\n      <td>2020-12-12</td>\n      <td>ROTHERFIELD UNITED WASPS</td>\n      <td>3</td>\n      <td>2</td>\n      <td>AFC CHARVIL</td>\n    </tr>\n    <tr>\n      <th>2</th>\n      <td>2020-09-26</td>\n      <td>CAVERSHAM AFC JAGUARS</td>\n      <td>1</td>\n      <td>3</td>\n      <td>WHITEKNIGHTS</td>\n      <td>2020-10-10</td>\n      <td>WHITEKNIGHTS</td>\n      <td>4</td>\n      <td>3</td>\n      <td>ROTHERFIELD UNITED WASPS</td>\n    </tr>\n    <tr>\n      <th>3</th>\n      <td>2020-10-31</td>\n      <td>HAWLEY YOUTH RAIDERS</td>\n      <td>8</td>\n      <td>1</td>\n      <td>CAVERSHAM AFC JAGUARS</td>\n      <td>2020-09-12</td>\n      <td>ROTHERFIELD UNITED WASPS</td>\n      <td>1</td>\n      <td>6</td>\n      <td>HAWLEY YOUTH RAIDERS</td>\n    </tr>\n    <tr>\n      <th>4</th>\n      <td>2020-12-12</td>\n      <td>WINDSOR YOUTH EAGLES TIGERS</td>\n      <td>2</td>\n      <td>2</td>\n      <td>CAVERSHAM AFC JAGUARS</td>\n      <td>2020-10-24</td>\n      <td>ROTHERFIELD UNITED WASPS</td>\n      <td>7</td>\n      <td>1</td>\n      <td>WINDSOR YOUTH EAGLES TIGERS</td>\n    </tr>\n  </tbody>\n</table>\n</div>"
     },
     "metadata": {},
     "execution_count": 148
    }
   ],
   "source": [
    "# Merge results together based on the same opposition team\n",
    "dfOneLevel = dfCafc.merge(dfOppTeam, on='OppTeam', how='inner', suffixes=('', '_other'))\n",
    "dfOneLevel.drop('Notes', axis=1, inplace=True)\n",
    "dfOneLevel.drop('Notes_other', axis=1, inplace=True)\n",
    "dfOneLevel.drop('OppTeam', axis=1)"
   ]
  },
  {
   "cell_type": "code",
   "execution_count": null,
   "metadata": {},
   "outputs": [],
   "source": []
  }
 ]
}