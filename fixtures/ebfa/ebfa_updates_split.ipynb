{
 "cells": [
  {
   "cell_type": "code",
   "execution_count": 1,
   "metadata": {},
   "outputs": [
    {
     "data": {
      "text/html": [
       "<script>\n",
       "code_show=false; \n",
       "function code_toggle() {\n",
       " if (code_show){\n",
       " $('div.input').hide();\n",
       " } else {\n",
       " $('div.input').show();\n",
       " }\n",
       " code_show = !code_show\n",
       "} \n",
       "$( document ).ready(code_toggle);\n",
       "</script>\n",
       "<form action=\"javascript:code_toggle()\"><input type=\"submit\" value=\"Click here to toggle on/off the raw code.\"></form>"
      ],
      "text/plain": [
       "<IPython.core.display.HTML object>"
      ]
     },
     "execution_count": 1,
     "metadata": {},
     "output_type": "execute_result"
    }
   ],
   "source": [
    "from IPython.display import HTML\n",
    "\n",
    "HTML('''<script>\n",
    "code_show=false; \n",
    "function code_toggle() {\n",
    " if (code_show){\n",
    " $('div.input').hide();\n",
    " } else {\n",
    " $('div.input').show();\n",
    " }\n",
    " code_show = !code_show\n",
    "} \n",
    "$( document ).ready(code_toggle);\n",
    "</script>\n",
    "<form action=\"javascript:code_toggle()\"><input type=\"submit\" value=\"Click here to toggle on/off the raw code.\"></form>''')"
   ]
  },
  {
   "cell_type": "code",
   "execution_count": 2,
   "metadata": {},
   "outputs": [],
   "source": [
    "from IPython.display import Markdown, display\n",
    "def printmd(string):\n",
    "    display(Markdown(string))"
   ]
  },
  {
   "cell_type": "code",
   "execution_count": 6,
   "metadata": {
    "slideshow": {
     "slide_type": "skip"
    }
   },
   "outputs": [],
   "source": [
    "import os\n",
    "import pandas as pd\n",
    "\n",
    "# Imports the Google Cloud client library\n",
    "from google.cloud import storage\n",
    "\n",
    "\n",
    "def get_blobs(bucket_name, startPrefix, endPrefix):\n",
    "    \"\"\"Lists all the blobs in the bucket.\"\"\"\n",
    "    storage_client = storage.Client()\n",
    "    \n",
    "    # Note: Client.list_blobs requires at least package version 1.17.0. \n",
    "    blobs = storage_client.list_blobs(bucket_name, \n",
    "                                      start_offset=startPrefix,\n",
    "                                      end_offset=endPrefix)\n",
    "    \n",
    "    retBlobs = []\n",
    "    for blob in blobs:\n",
    "        retBlobs.append(f'gs://{bucket_name}/{blob.name}')\n",
    "        \n",
    "    return retBlobs\n",
    "        \n",
    "sBucketUrl='ebfa_fixtures'\n",
    "\n",
    "# Set GOOGLE_APPLICATION_CREDENTIALS to the private key for GCP\n",
    "os.environ[\"GOOGLE_APPLICATION_CREDENTIALS\"]=\"/Users/JK-MBPro/Documents/github.com/caversham.afc/key/CavershamAFC-1e2c4f66b68b.json\"\n",
    "\n",
    "# it is mandatory initialize the storage client\n",
    "blobs = get_blobs(sBucketUrl, '4389-7590-2020-12-19', '4389-7590-2020-12-31')\n",
    "\n",
    "dfUpdates = pd.DataFrame()\n",
    "\n",
    "for blob in blobs:\n",
    "    dfUp = pd.read_csv(blob, dtype=str)\n",
    "    dfUpdates = pd.concat([dfUpdates,dfUp], axis=0, ignore_index=True)\n",
    "\n",
    "#dfUpdates.head(20)"
   ]
  },
  {
   "cell_type": "code",
   "execution_count": 7,
   "metadata": {
    "slideshow": {
     "slide_type": "fragment"
    }
   },
   "outputs": [
    {
     "data": {
      "text/markdown": [
       "<br>**Score updates:**"
      ],
      "text/plain": [
       "<IPython.core.display.Markdown object>"
      ]
     },
     "metadata": {},
     "output_type": "display_data"
    },
    {
     "data": {
      "text/html": [
       "<div>\n",
       "<style scoped>\n",
       "    .dataframe tbody tr th:only-of-type {\n",
       "        vertical-align: middle;\n",
       "    }\n",
       "\n",
       "    .dataframe tbody tr th {\n",
       "        vertical-align: top;\n",
       "    }\n",
       "\n",
       "    .dataframe thead th {\n",
       "        text-align: right;\n",
       "    }\n",
       "</style>\n",
       "<table border=\"1\" class=\"dataframe\">\n",
       "  <thead>\n",
       "    <tr style=\"text-align: right;\">\n",
       "      <th></th>\n",
       "      <th>MatchId</th>\n",
       "      <th>Date</th>\n",
       "      <th>Home</th>\n",
       "      <th>HG</th>\n",
       "      <th>AG</th>\n",
       "      <th>Away</th>\n",
       "    </tr>\n",
       "  </thead>\n",
       "  <tbody>\n",
       "    <tr>\n",
       "      <th>1</th>\n",
       "      <td>4830</td>\n",
       "      <td>2020-12-19</td>\n",
       "      <td>HAWLEY YOUTH RAIDERS</td>\n",
       "      <td>0</td>\n",
       "      <td>1</td>\n",
       "      <td>WHITEKNIGHTS</td>\n",
       "    </tr>\n",
       "  </tbody>\n",
       "</table>\n",
       "</div>"
      ],
      "text/plain": [
       "  MatchId        Date                  Home HG AG          Away\n",
       "1    4830  2020-12-19  HAWLEY YOUTH RAIDERS  0  1  WHITEKNIGHTS"
      ]
     },
     "metadata": {},
     "output_type": "display_data"
    }
   ],
   "source": [
    "if 'HG_old' in dfUpdates.columns:\n",
    "    printmd('<br>**Score updates:**')\n",
    "    # drop all change columns and Updated and Notes columns\n",
    "    dfScores = dfUpdates.loc[dfUpdates.HG.notnull()].copy()\n",
    "    dfScores.drop('Updated', axis=1, inplace=True)\n",
    "    dfScores.drop('Notes', axis=1, inplace=True)\n",
    "    for col in dfScores.columns:\n",
    "        if '_' in col:\n",
    "            dfScores.drop(col, axis=1, inplace=True)\n",
    "    display(dfScores.head())"
   ]
  },
  {
   "cell_type": "code",
   "execution_count": 8,
   "metadata": {
    "slideshow": {
     "slide_type": "fragment"
    }
   },
   "outputs": [
    {
     "data": {
      "text/markdown": [
       "<br>**Fixtures updates:**"
      ],
      "text/plain": [
       "<IPython.core.display.Markdown object>"
      ]
     },
     "metadata": {},
     "output_type": "display_data"
    },
    {
     "data": {
      "text/html": [
       "<div>\n",
       "<style scoped>\n",
       "    .dataframe tbody tr th:only-of-type {\n",
       "        vertical-align: middle;\n",
       "    }\n",
       "\n",
       "    .dataframe tbody tr th {\n",
       "        vertical-align: top;\n",
       "    }\n",
       "\n",
       "    .dataframe thead th {\n",
       "        text-align: right;\n",
       "    }\n",
       "</style>\n",
       "<table border=\"1\" class=\"dataframe\">\n",
       "  <thead>\n",
       "    <tr style=\"text-align: right;\">\n",
       "      <th></th>\n",
       "      <th>MatchId</th>\n",
       "      <th>Updated</th>\n",
       "      <th>Date</th>\n",
       "      <th>Home</th>\n",
       "      <th>HG</th>\n",
       "      <th>AG</th>\n",
       "      <th>Away</th>\n",
       "      <th>Notes</th>\n",
       "      <th>Notes_old</th>\n",
       "      <th>Notes_new</th>\n",
       "    </tr>\n",
       "  </thead>\n",
       "  <tbody>\n",
       "    <tr>\n",
       "      <th>3</th>\n",
       "      <td>4827</td>\n",
       "      <td>2020-12-20T120509</td>\n",
       "      <td>2020-12-19</td>\n",
       "      <td>CAVERSHAM AFC JAGUARS</td>\n",
       "      <td>NaN</td>\n",
       "      <td>NaN</td>\n",
       "      <td>ROTHERFIELD UNITED WASPS</td>\n",
       "      <td>Match# 4827 | postponed due to weather 19/12 | Postponed</td>\n",
       "      <td>Match# 4827</td>\n",
       "      <td>Match# 4827 | postponed due to weather 19/12 | Postponed</td>\n",
       "    </tr>\n",
       "    <tr>\n",
       "      <th>5</th>\n",
       "      <td>4826</td>\n",
       "      <td>2020-12-20T150510</td>\n",
       "      <td>2020-12-19</td>\n",
       "      <td>REEVES RANGERS BLUES</td>\n",
       "      <td>NaN</td>\n",
       "      <td>NaN</td>\n",
       "      <td>WINDSOR YOUTH EAGLES TIGERS</td>\n",
       "      <td>Match# 4826 | postponed due to weather 19/12 | Postponed</td>\n",
       "      <td>Match# 4826</td>\n",
       "      <td>Match# 4826 | postponed due to weather 19/12 | Postponed</td>\n",
       "    </tr>\n",
       "    <tr>\n",
       "      <th>7</th>\n",
       "      <td>4828</td>\n",
       "      <td>2020-12-20T150510</td>\n",
       "      <td>2020-12-19</td>\n",
       "      <td>AFC CHARVIL</td>\n",
       "      <td>NaN</td>\n",
       "      <td>NaN</td>\n",
       "      <td>HEARTS OF TEDDLOTHIAN CHEETAHS</td>\n",
       "      <td>Match# 4828 | postponed due to weather 19/12 | Postponed</td>\n",
       "      <td>Match# 4828</td>\n",
       "      <td>Match# 4828 | postponed due to weather 19/12 | Postponed</td>\n",
       "    </tr>\n",
       "  </tbody>\n",
       "</table>\n",
       "</div>"
      ],
      "text/plain": [
       "  MatchId            Updated        Date                   Home   HG   AG  \\\n",
       "3    4827  2020-12-20T120509  2020-12-19  CAVERSHAM AFC JAGUARS  NaN  NaN   \n",
       "5    4826  2020-12-20T150510  2020-12-19   REEVES RANGERS BLUES  NaN  NaN   \n",
       "7    4828  2020-12-20T150510  2020-12-19            AFC CHARVIL  NaN  NaN   \n",
       "\n",
       "                             Away  \\\n",
       "3        ROTHERFIELD UNITED WASPS   \n",
       "5     WINDSOR YOUTH EAGLES TIGERS   \n",
       "7  HEARTS OF TEDDLOTHIAN CHEETAHS   \n",
       "\n",
       "                                                      Notes    Notes_old  \\\n",
       "3  Match# 4827 | postponed due to weather 19/12 | Postponed  Match# 4827   \n",
       "5  Match# 4826 | postponed due to weather 19/12 | Postponed  Match# 4826   \n",
       "7  Match# 4828 | postponed due to weather 19/12 | Postponed  Match# 4828   \n",
       "\n",
       "                                                  Notes_new  \n",
       "3  Match# 4827 | postponed due to weather 19/12 | Postponed  \n",
       "5  Match# 4826 | postponed due to weather 19/12 | Postponed  \n",
       "7  Match# 4828 | postponed due to weather 19/12 | Postponed  "
      ]
     },
     "metadata": {},
     "output_type": "display_data"
    }
   ],
   "source": [
    "pd.set_option('display.max_colwidth', 100)\n",
    "\n",
    "# get every second row, i.e. just the row with new values\n",
    "dfOtherUpdates = dfUpdates.iloc[1::2,:].copy()\n",
    "\n",
    "# drop change columns of scores\n",
    "for col in dfOtherUpdates.columns:\n",
    "    if 'HG_' in col:\n",
    "        dfOtherUpdates.drop(col, axis=1, inplace=True)\n",
    "    if 'AG_' in col:\n",
    "        dfOtherUpdates.drop(col, axis=1, inplace=True)\n",
    "\n",
    "# drop rows that have no changes (i.e. null in all change columns)\n",
    "cols = [col for col in dfOtherUpdates if (col.endswith('_old') | col.endswith('_new'))]\n",
    "dfOtherUpdates = dfOtherUpdates.dropna(subset=cols, how='all')\n",
    "\n",
    "# output only if there is anything\n",
    "if dfOtherUpdates.size > 0:\n",
    "    printmd('<br>**Fixtures updates:**')\n",
    "    display(dfOtherUpdates)"
   ]
  },
  {
   "cell_type": "code",
   "execution_count": null,
   "metadata": {},
   "outputs": [],
   "source": []
  }
 ],
 "metadata": {
  "celltoolbar": "Slideshow",
  "kernelspec": {
   "display_name": "Python 3",
   "language": "python",
   "name": "python3"
  },
  "language_info": {
   "codemirror_mode": {
    "name": "ipython",
    "version": 3
   },
   "file_extension": ".py",
   "mimetype": "text/x-python",
   "name": "python",
   "nbconvert_exporter": "python",
   "pygments_lexer": "ipython3",
   "version": "3.8.5"
  }
 },
 "nbformat": 4,
 "nbformat_minor": 4
}
